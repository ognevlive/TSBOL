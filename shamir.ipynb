{
 "cells": [
  {
   "cell_type": "code",
   "execution_count": 97,
   "metadata": {},
   "outputs": [
    {
     "name": "stdout",
     "output_type": "stream",
     "text": [
      "7339809563*x^3 + 1861467191*x^2 + 2632885976*x + 5886011092\n",
      "3787833340*x^3 + 1775795613*x^2 + 127973763*x + 100\n"
     ]
    }
   ],
   "source": [
    "def random_prime(a, b):\n",
    "    while True:\n",
    "        p = ZZ.random_element(2**k, 2**(k+1))\n",
    "        if p.is_prime() == True:\n",
    "            return p\n",
    " \n",
    "\n",
    "class Shamir():\n",
    "    \n",
    "    def __init__(self, t, n):\n",
    "        self._t = t\n",
    "        self._n = n\n",
    "\n",
    "        \n",
    "    def GC(self, k):\n",
    "        ## (a) pick a prime p\n",
    "        p = random_prime(2**k, 2**(k+1))\n",
    "        assert p > self._n\n",
    "        \n",
    "        ## (b) pick uniformly at random n distinct non-zero elements alpha from Zp*\n",
    "        Zp = Zmod(p)\n",
    "        alpha = []\n",
    "        for i in range(self._n):\n",
    "            alpha.append(Zp.random_element())\n",
    "        \n",
    "        return (p, alpha)\n",
    "        # return x=(p, alpha)\n",
    "        \n",
    "        \n",
    "    def DS(self, p, alpha, s):\n",
    "        ## generate t-1 uniformly random elements a=(a_1,...,a_(t-1)) from Zp\n",
    "        Zp = Zmod(p)\n",
    "        a = [s]\n",
    "        for i in range(self._t - 1):\n",
    "            a.append(Zp.random_element()) \n",
    "            \n",
    "        # build the polynomial a(x)=s+a_1*x+...+a_(t-1)*x^(t-1) from Zp[x;t-1]\n",
    "        F = FiniteField(p)\n",
    "        P = F['x']\n",
    "        ax = P(a)\n",
    "        \n",
    "        # generate shares sigma_i\n",
    "        shares = []\n",
    "        for i in range(self._n):\n",
    "            sigma_i = ax(alpha[i]) % p\n",
    "            shares.append([alpha[i], sigma_i])\n",
    "        return shares\n",
    "        \n",
    "        \n",
    "    def SC(self, p, shares):\n",
    "        assert len(shares) == self._t\n",
    "        F = FiniteField(p)\n",
    "        P = F['x']\n",
    "        print (P.lagrange_polynomial(shares))\n",
    "        \n",
    "        \n",
    "s = 100\n",
    "k = 33\n",
    "\n",
    "shaTSS = Shamir(4, 6)\n",
    "p, alpha = shaTSS.GC(k)\n",
    "shares = shaTSS.DS(p, alpha, s)\n",
    "shaTSS.SC(p, shares[:3] + [[123, 123]])\n",
    "shaTSS.SC(p, shares[:4])\n",
    "\n",
    "    \n"
   ]
  }
 ],
 "metadata": {
  "kernelspec": {
   "display_name": "SageMath 9.0",
   "language": "sage",
   "name": "sagemath"
  },
  "language_info": {
   "codemirror_mode": {
    "name": "ipython",
    "version": 3
   },
   "file_extension": ".py",
   "mimetype": "text/x-python",
   "name": "python",
   "nbconvert_exporter": "python",
   "pygments_lexer": "ipython3",
   "version": "3.7.3"
  }
 },
 "nbformat": 4,
 "nbformat_minor": 2
}
