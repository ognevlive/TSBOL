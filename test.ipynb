{
 "cells": [
  {
   "cell_type": "code",
   "execution_count": null,
   "metadata": {},
   "outputs": [
    {
     "name": "stdout",
     "output_type": "stream",
     "text": [
      "193\n",
      "(1, 1, 0, 2, 0, 0, 0, 2, 1, 3, 2, 0, 2, 1, 2, 1, 0, 1, 2, 3, 0, 0, 0, 2, 1, 1, 2, 1, 1, 1, 1, 0) (2, 2, 0, 1, 1, 2, 0, 0, 0, 0, 1, 1, 0, 0, 1, 1, 0, 1, 1, 2, 3, 2, 1, 1, 2, 2, 2, 1, 3, 1, 0, 0) 193\n"
     ]
    }
   ],
   "source": [
    "import random\n",
    "\n",
    "def random_int(nbits=32):\n",
    "    a, b = random.getrandbits(nbits), random.getrandbits(nbits)\n",
    "    return int(RR.random_element(a, b))\n",
    "\n",
    "def random_prime_int(nbits=8):\n",
    "    return random_prime(2^nbits-1, false, 2^(nbits-1))\n",
    "\n",
    "q = random_prime_int()\n",
    "print (q)\n",
    "#sage.crypto.gen_lattice(type='random', n=1, m=q, seed=random_int()).str()\n",
    "\n",
    "def random_vector(size=8):\n",
    "    return vector([random_int(2) for i in range(size)])\n",
    "\n",
    "def gen_f_and_g():\n",
    "    while True:\n",
    "        f, g = random_vector(32), random_vector(32)\n",
    "        if f.norm(2) == g.norm(2):\n",
    "            return f,g\n",
    "#     R.<t> = PolynomialRing(ZZ)\n",
    "#     # which degree i should use?\n",
    "#     # which p-norm i should use? now p=2 - euclidean\n",
    "#     while True:\n",
    "#         f, g = R.random_element(degree=random_int(4)), R.random_element(degree=random_int(4))\n",
    "#         if f.norm(2) == g.norm(2):\n",
    "#             return f, g\n",
    "\n",
    "# not actual\n",
    "# d_f, d_g - non-zeros coef?\n",
    "def zeros_count(f):\n",
    "    l = 0\n",
    "    for i in f.list():\n",
    "        l += len([x for x in bin(i)[2:] if x == '1'])\n",
    "    return l\n",
    "\n",
    "def gen_G_and_F(f, g, q):\n",
    "    R.<t> = PolynomialRing(ZZ)\n",
    "    print (f, g, q)\n",
    "    while True:\n",
    "        F, G = R.random_element(degree=32), R.random_element(degree=32)\n",
    "        if f*G - g*F == q:\n",
    "            return F, G\n",
    "\n",
    "    \n",
    "        \n",
    "f, g = gen_f_and_g()\n",
    "df = zeros_count(f)\n",
    "dg = zeros_count(g)\n",
    "#gen_G_and_F(f, g, q)"
   ]
  },
  {
   "cell_type": "code",
   "execution_count": null,
   "metadata": {},
   "outputs": [],
   "source": []
  }
 ],
 "metadata": {
  "kernelspec": {
   "display_name": "SageMath 9.0",
   "language": "sage",
   "name": "sagemath"
  }
 },
 "nbformat": 4,
 "nbformat_minor": 2
}
