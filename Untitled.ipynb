{
 "cells": [
  {
   "cell_type": "code",
   "execution_count": 2,
   "metadata": {},
   "outputs": [
    {
     "ename": "FileNotFoundError",
     "evalue": "[Errno 2] No such file or directory: '/home/oddcoder/lol_crypto/flag.txt.enc'",
     "output_type": "error",
     "traceback": [
      "\u001b[0;31m---------------------------------------------------------------------------\u001b[0m",
      "\u001b[0;31mFileNotFoundError\u001b[0m                         Traceback (most recent call last)",
      "\u001b[0;32m<ipython-input-2-b6216e0b2597>\u001b[0m in \u001b[0;36m<module>\u001b[0;34m()\u001b[0m\n\u001b[1;32m     13\u001b[0m \u001b[0mM\u001b[0m \u001b[0;34m=\u001b[0m \u001b[0mInteger\u001b[0m\u001b[0;34m(\u001b[0m\u001b[0;36m2\u001b[0m\u001b[0;34m)\u001b[0m\u001b[0;34m**\u001b[0m\u001b[0mInteger\u001b[0m\u001b[0;34m(\u001b[0m\u001b[0;36m64\u001b[0m\u001b[0;34m)\u001b[0m\u001b[0;34m\u001b[0m\u001b[0;34m\u001b[0m\u001b[0m\n\u001b[1;32m     14\u001b[0m \u001b[0;34m\u001b[0m\u001b[0m\n\u001b[0;32m---> 15\u001b[0;31m \u001b[0mC\u001b[0m \u001b[0;34m=\u001b[0m \u001b[0mopen\u001b[0m\u001b[0;34m(\u001b[0m\u001b[0;34m\"/home/oddcoder/lol_crypto/flag.txt.enc\"\u001b[0m\u001b[0;34m)\u001b[0m\u001b[0;34m.\u001b[0m\u001b[0mread\u001b[0m\u001b[0;34m(\u001b[0m\u001b[0;34m)\u001b[0m\u001b[0;34m[\u001b[0m\u001b[0mInteger\u001b[0m\u001b[0;34m(\u001b[0m\u001b[0;36m8\u001b[0m\u001b[0;34m)\u001b[0m\u001b[0;34m:\u001b[0m\u001b[0;34m]\u001b[0m\u001b[0;34m\u001b[0m\u001b[0;34m\u001b[0m\u001b[0m\n\u001b[0m\u001b[1;32m     16\u001b[0m random_nums = [int(x) for x in open(\"/home/oddcoder/lol_crypto/randoms\").\n\u001b[1;32m     17\u001b[0m         read().split(\"\\n\")[:-Integer(1)]]\n",
      "\u001b[0;31mFileNotFoundError\u001b[0m: [Errno 2] No such file or directory: '/home/oddcoder/lol_crypto/flag.txt.enc'"
     ]
    }
   ],
   "source": [
    "from struct import *\n",
    "\n",
    "def Babai_CVP(Lattice, target):\n",
    "    M = Lattice.LLL()\n",
    "    G = M.gram_schmidt()[0]\n",
    "    diff = target\n",
    "    for i in reversed(range(M.nrows())):\n",
    "        diff -=  M[i] * ((diff * G[i]) / (G[i] * G[i])).round()\n",
    "    return target - diff\n",
    "\n",
    "n = 37\n",
    "k = 64\n",
    "M = 2^64\n",
    "\n",
    "C = open(\"/home/oddcoder/lol_crypto/flag.txt.enc\").read()[8:]\n",
    "random_nums = [int(x) for x in open(\"/home/oddcoder/lol_crypto/randoms\").\n",
    "        read().split(\"\\n\")[:-1]]\n",
    "\n",
    "c = vector(k*[0])\n",
    "\n",
    "for i in range(k):\n",
    "    c[i] = unpack(\"=Q\", C[0:8])[0]\n",
    "    C = C[8:]\n",
    "\n",
    "A = matrix(k,n)\n",
    "\n",
    "for i in range(k):\n",
    "    for j in range(n):\n",
    "        A[i, j] = random_nums[i*n+j]\n",
    "\n",
    "B = matrix(n+k,n+k)\n",
    "\n",
    "for i in range(k):\n",
    "    B[i,i] = M/4\n",
    "\n",
    "for i in range(k):\n",
    "    for j in range(n):\n",
    "        B[i,k+j] = A[i][j]\n",
    "\n",
    "for i in range(k, n+k):\n",
    "    B[i,i] = 1\n",
    "\n",
    "t = vector(ZZ, [0]*(n+k))\n",
    "\n",
    "for i in range(k):\n",
    "    t[i] = c[i]\n",
    "\n",
    "P = Babai_CVP(B.transpose(),t)\n",
    "print( \"\".join(chr(c) for c in P[k:]))"
   ]
  }
 ],
 "metadata": {
  "kernelspec": {
   "display_name": "SageMath 9.0",
   "language": "sage",
   "name": "sagemath"
  }
 },
 "nbformat": 4,
 "nbformat_minor": 2
}
